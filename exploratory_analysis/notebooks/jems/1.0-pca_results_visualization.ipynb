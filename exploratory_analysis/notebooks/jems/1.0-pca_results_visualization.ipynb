{
 "cells": [
  {
   "cell_type": "markdown",
   "metadata": {},
   "source": [
    "# PCA Results Visualization\n",
    "\n",
    "To run it data should be saved in one folder:\n",
    "- principal_components.csv - *output of PCA*\n",
    "- sensor_description.csv - *attribute sdf from class DieselDs from script jems_data.py* \n",
    "- components.npy - *attribute of PCA*\n",
    "- explained_variance_ratio.npy - *attribute of PCA*\n",
    "\n",
    "[PCA documentation](https://scikit-learn.org/stable/modules/generated/sklearn.decomposition.PCA.html)"
   ]
  },
  {
   "cell_type": "code",
   "execution_count": null,
   "metadata": {
    "scrolled": false
   },
   "outputs": [],
   "source": [
    "import numpy as np\n",
    "import pandas as pd\n",
    "import matplotlib.pyplot as plt\n",
    "from sklearn.decomposition import PCA\n",
    "from sklearn.preprocessing import StandardScaler\n",
    "\n",
    "DATA_LOCATION = \"../../../data/processed/jems/\""
   ]
  },
  {
   "cell_type": "code",
   "execution_count": null,
   "metadata": {},
   "outputs": [],
   "source": [
    "class Visualization:\n",
    "    def __init__(self, data_location, load=True, pc=None, c=None, evr=None):\n",
    "        self.data_location = data_location\n",
    "        # load data\n",
    "        self.sensor_description = pd.read_csv(self.data_location + \"sensor_description.csv\", index_col=1)\n",
    "        if(load):\n",
    "            self.principal_components = pd.read_csv(self.data_location + \"principal_components.csv\", index_col=0)\n",
    "            self.components = np.load(self.data_location + \"components.npy\")\n",
    "            self.explained_variance_ratio = np.load(self.data_location + \"explained_variance_ratio.npy\")\n",
    "        else:\n",
    "            self.principal_components = pc\n",
    "            self.components = c\n",
    "            self.explained_variance_ratio = evr\n",
    "    \n",
    "    def draw_variance(self):\n",
    "        \"\"\"\n",
    "        Draw variance for each principal component and cumulative variance\n",
    "        \"\"\"\n",
    "        plt.figure(figsize=(30, 20))\n",
    "        plt.subplot(211)\n",
    "        plt.plot(np.arange(1, len(self.explained_variance_ratio)+1), np.cumsum(self.explained_variance_ratio))\n",
    "        plt.subplot(212)\n",
    "        plt.bar(np.arange(1, len(self.explained_variance_ratio)+1), self.explained_variance_ratio)\n",
    "        plt.show()\n",
    "        \n",
    "    def draw_matrix(self, num_of_components=10, threshold=0.2, save=None):\n",
    "        \"\"\"\n",
    "        Draw matrix where each column represents one sensor and each row one principal components.\n",
    "        Only first num_of_components principal components and only sensors which affect more\n",
    "        than threshold on any component are shown.\n",
    "        \"\"\"\n",
    "        compdf = pd.DataFrame(data=self.components[:num_of_components], columns=self.principal_components.columns)\n",
    "        \n",
    "        # select sensors with at least some information\n",
    "        to_drop = []\n",
    "        for i in compdf.columns:\n",
    "            if(compdf[i].abs().lt(threshold).all()):\n",
    "                to_drop.append(i)\n",
    "        compdf = compdf.drop(columns=to_drop)\n",
    "        \n",
    "        # drop columns describing sensors which doesn't appear in self.sensor_description\n",
    "        compdf = compdf.drop(columns = compdf.columns.difference(self.sensor_description.index.astype('str')))\n",
    "        \n",
    "        # prepare sensor descriptions\n",
    "        descriptions = [\"{} ({})\".format(self.sensor_description.loc[int(i), \"description\"],\n",
    "                                         self.sensor_description.loc[int(i), \"name\"])\n",
    "                        for i in compdf.columns]\n",
    "        \n",
    "        # draw matrix\n",
    "        plt.figure(1, figsize=(0.5*len(compdf.columns)+2, 0.5*compdf.shape[0]+10))\n",
    "        plt.matshow(compdf.values, fignum=1)\n",
    "        plt.colorbar(shrink=0.5)\n",
    "        plt.xticks(range(len(compdf.columns)),descriptions,rotation=65,ha='left')\n",
    "        \n",
    "        if(save != None):\n",
    "            plt.savefig(self.data_location + save, format=\"png\")\n",
    "        else:\n",
    "            plt.show()\n"
   ]
  },
  {
   "cell_type": "markdown",
   "metadata": {},
   "source": [
    "## Variance\n",
    "\n",
    "Cumulative variance and variance for each principal component"
   ]
  },
  {
   "cell_type": "code",
   "execution_count": null,
   "metadata": {},
   "outputs": [],
   "source": [
    "vis = Visualization(DATA_LOCATION)\n",
    "vis.draw_variance()"
   ]
  },
  {
   "cell_type": "markdown",
   "metadata": {},
   "source": [
    "## Sensor contribution to principal components\n",
    "\n",
    "Matrix of sensors that the most contribute to principal components."
   ]
  },
  {
   "cell_type": "code",
   "execution_count": null,
   "metadata": {},
   "outputs": [],
   "source": [
    "vis.draw_matrix(15, 0.25)"
   ]
  },
  {
   "cell_type": "code",
   "execution_count": null,
   "metadata": {},
   "outputs": [],
   "source": [
    "# division of sensors into 3 groups (B100, B200 and B300)\n",
    "b100 = ['50', '53', '62', '63', '64', '65', '96', '97', '98', '2', '3', '4', '38', '45', '47', '55', '121', '90', '154', '19',\n",
    "        '20', '85', '117', '99', '100', '101', '115', '118', '102', '103', '104', '116', '119', '37', '108', '109', '110']\n",
    "b200 = ['6', '7', '8', '9', '10', '11', '12', '13', '17', '31', '32', '33', '34', '35', '36', '39', '49', '52', '56', '58',\n",
    "        '66', '67', '68', '69', '70', '71', '72', '73', '74', '75', '76', '30', '46', '122', '91', '95', '153', '155', '165',\n",
    "        '166', '167', '1', '18', '105', '106', '107', '21', '22', '86', '125', '23', '24', '25', '87', '126']\n",
    "b300 = ['14', '15', '16', '40', '48', '51', '57', '61', '77', '78', '79', '80', '81', '26', '27', '28', '29', '41', '59', '88',\n",
    "        '157', '23', '24', '25', '87', '126']"
   ]
  },
  {
   "cell_type": "code",
   "execution_count": null,
   "metadata": {},
   "outputs": [],
   "source": [
    "def pca_for_columns(columns):\n",
    "    data = pd.read_csv(DATA_LOCATION + \"sensor_values_without_nan.csv\", index_col=0)\n",
    "    \n",
    "    # take only columns in b100\n",
    "    data = data[columns]\n",
    "\n",
    "    # standardize the data\n",
    "    standardized = pd.DataFrame(data = StandardScaler().fit_transform(data),\n",
    "                                index = data.index, columns = data.columns)\n",
    "\n",
    "    # PCA\n",
    "    pca = PCA()\n",
    "    principal_components = pca.fit_transform(standardized)\n",
    "    principal_components = pd.DataFrame(data=principal_components, index=data.index, columns=data.columns)\n",
    "    \n",
    "    return (pca, principal_components)"
   ]
  },
  {
   "cell_type": "code",
   "execution_count": null,
   "metadata": {},
   "outputs": [],
   "source": [
    "pca, pc = pca_for_columns(b100)\n",
    "b100vis = Visualization(DATA_LOCATION, load=False, pc=pc, c=pca.components_, evr=pca.explained_variance_ratio_)\n",
    "b100vis.draw_variance()\n",
    "b100vis.draw_matrix(10, 0.3)"
   ]
  },
  {
   "cell_type": "code",
   "execution_count": null,
   "metadata": {},
   "outputs": [],
   "source": [
    "pca, pc = pca_for_columns(b200)\n",
    "b200vis = Visualization(DATA_LOCATION, load=False, pc=pc, c=pca.components_, evr=pca.explained_variance_ratio_)\n",
    "b200vis.draw_variance()\n",
    "b200vis.draw_matrix(6, 0.35)"
   ]
  },
  {
   "cell_type": "code",
   "execution_count": null,
   "metadata": {},
   "outputs": [],
   "source": [
    "pca, pc = pca_for_columns(b300)\n",
    "b300vis = Visualization(DATA_LOCATION, load=False, pc=pc, c=pca.components_, evr=pca.explained_variance_ratio_)\n",
    "b300vis.draw_variance()\n",
    "b300vis.draw_matrix(5, 0.3)"
   ]
  },
  {
   "cell_type": "code",
   "execution_count": null,
   "metadata": {},
   "outputs": [],
   "source": []
  }
 ],
 "metadata": {
  "kernelspec": {
   "display_name": "Python 3",
   "language": "python",
   "name": "python3"
  },
  "language_info": {
   "codemirror_mode": {
    "name": "ipython",
    "version": 3
   },
   "file_extension": ".py",
   "mimetype": "text/x-python",
   "name": "python",
   "nbconvert_exporter": "python",
   "pygments_lexer": "ipython3",
   "version": "3.7.6"
  }
 },
 "nbformat": 4,
 "nbformat_minor": 2
}
